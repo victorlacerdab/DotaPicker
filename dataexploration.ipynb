{
 "cells": [
  {
   "cell_type": "code",
   "execution_count": 1,
   "metadata": {},
   "outputs": [],
   "source": [
    "import pandas as pd\n",
    "import numpy as np\n",
    "import json"
   ]
  },
  {
   "cell_type": "code",
   "execution_count": 7,
   "metadata": {},
   "outputs": [],
   "source": [
    "from utils import load_json, DotaTokenizer\n",
    "\n",
    "hero_metadata = load_json('heroes.json')\n",
    "special_tks = ['[PAD]', '[PICK]', '[BAN]', '[RADSTART]', '[DIRESTART]', '[RADWIN]', '[DIREWIN]']"
   ]
  },
  {
   "cell_type": "code",
   "execution_count": 8,
   "metadata": {},
   "outputs": [],
   "source": [
    "tokenizer = DotaTokenizer(hero_metadata, special_tks)"
   ]
  },
  {
   "cell_type": "code",
   "execution_count": 9,
   "metadata": {},
   "outputs": [
    {
     "data": {
      "text/plain": [
       "{0: '[PAD]',\n",
       " 1: '[PICK]',\n",
       " 2: '[BAN]',\n",
       " 3: '[RADSTART]',\n",
       " 4: '[DIRESTART]',\n",
       " 5: '[RADWIN]',\n",
       " 6: '[DIREWIN]',\n",
       " 8: 'antimage',\n",
       " 9: 'axe',\n",
       " 10: 'bane',\n",
       " 11: 'bloodseeker',\n",
       " 12: 'crystal_maiden',\n",
       " 13: 'drow_ranger',\n",
       " 14: 'earthshaker',\n",
       " 15: 'juggernaut',\n",
       " 16: 'mirana',\n",
       " 17: 'morphling',\n",
       " 18: 'nevermore',\n",
       " 19: 'phantom_lancer',\n",
       " 20: 'puck',\n",
       " 21: 'pudge',\n",
       " 22: 'razor',\n",
       " 23: 'sand_king',\n",
       " 24: 'storm_spirit',\n",
       " 25: 'sven',\n",
       " 26: 'tiny',\n",
       " 27: 'vengefulspirit',\n",
       " 28: 'windrunner',\n",
       " 29: 'zuus',\n",
       " 30: 'kunkka',\n",
       " 32: 'lina',\n",
       " 33: 'lion',\n",
       " 34: 'shadow_shaman',\n",
       " 35: 'slardar',\n",
       " 36: 'tidehunter',\n",
       " 37: 'witch_doctor',\n",
       " 38: 'lich',\n",
       " 39: 'riki',\n",
       " 40: 'enigma',\n",
       " 41: 'tinker',\n",
       " 42: 'sniper',\n",
       " 43: 'necrolyte',\n",
       " 44: 'warlock',\n",
       " 45: 'beastmaster',\n",
       " 46: 'queenofpain',\n",
       " 47: 'venomancer',\n",
       " 48: 'faceless_void',\n",
       " 49: 'skeleton_king',\n",
       " 50: 'death_prophet',\n",
       " 51: 'phantom_assassin',\n",
       " 52: 'pugna',\n",
       " 53: 'templar_assassin',\n",
       " 54: 'viper',\n",
       " 55: 'luna',\n",
       " 56: 'dragon_knight',\n",
       " 57: 'dazzle',\n",
       " 58: 'rattletrap',\n",
       " 59: 'leshrac',\n",
       " 60: 'furion',\n",
       " 61: 'life_stealer',\n",
       " 62: 'dark_seer',\n",
       " 63: 'clinkz',\n",
       " 64: 'omniknight',\n",
       " 65: 'enchantress',\n",
       " 66: 'huskar',\n",
       " 67: 'night_stalker',\n",
       " 68: 'broodmother',\n",
       " 69: 'bounty_hunter',\n",
       " 70: 'weaver',\n",
       " 71: 'jakiro',\n",
       " 72: 'batrider',\n",
       " 73: 'chen',\n",
       " 74: 'spectre',\n",
       " 75: 'ancient_apparition',\n",
       " 76: 'doom_bringer',\n",
       " 77: 'ursa',\n",
       " 78: 'spirit_breaker',\n",
       " 79: 'gyrocopter',\n",
       " 80: 'alchemist',\n",
       " 81: 'invoker',\n",
       " 82: 'silencer',\n",
       " 83: 'obsidian_destroyer',\n",
       " 84: 'lycan',\n",
       " 85: 'brewmaster',\n",
       " 86: 'shadow_demon',\n",
       " 87: 'lone_druid',\n",
       " 88: 'chaos_knight',\n",
       " 89: 'meepo',\n",
       " 90: 'treant',\n",
       " 91: 'ogre_magi',\n",
       " 92: 'undying',\n",
       " 93: 'rubick',\n",
       " 94: 'disruptor',\n",
       " 95: 'nyx_assassin',\n",
       " 96: 'naga_siren',\n",
       " 97: 'keeper_of_the_light',\n",
       " 98: 'wisp',\n",
       " 99: 'visage',\n",
       " 100: 'slark',\n",
       " 101: 'medusa',\n",
       " 102: 'troll_warlord',\n",
       " 103: 'centaur',\n",
       " 104: 'magnataur',\n",
       " 105: 'shredder',\n",
       " 106: 'bristleback',\n",
       " 107: 'tusk',\n",
       " 108: 'skywrath_mage',\n",
       " 109: 'abaddon',\n",
       " 110: 'elder_titan',\n",
       " 111: 'legion_commander',\n",
       " 112: 'techies',\n",
       " 113: 'ember_spirit',\n",
       " 114: 'earth_spirit',\n",
       " 115: 'abyssal_underlord',\n",
       " 116: 'terrorblade',\n",
       " 117: 'phoenix',\n",
       " 118: 'oracle',\n",
       " 119: 'winter_wyvern',\n",
       " 120: 'arc_warden',\n",
       " 121: 'monkey_king',\n",
       " 126: 'dark_willow',\n",
       " 127: 'pangolier',\n",
       " 128: 'grimstroke',\n",
       " 130: 'hoodwink',\n",
       " 133: 'void_spirit',\n",
       " 135: 'snapfire',\n",
       " 136: 'mars',\n",
       " 142: 'dawnbreaker',\n",
       " 143: 'marci',\n",
       " 144: 'primal_beast',\n",
       " 145: 'muerta'}"
      ]
     },
     "execution_count": 9,
     "metadata": {},
     "output_type": "execute_result"
    }
   ],
   "source": [
    "tokenizer.vocab"
   ]
  },
  {
   "cell_type": "code",
   "execution_count": null,
   "metadata": {},
   "outputs": [],
   "source": [
    "df = pd.read_csv('picks_bans_2003.csv')\n",
    "df = df.drop(df.columns[0], axis=1)\n",
    "df = df.drop(df.columns[-1], axis=1)"
   ]
  },
  {
   "cell_type": "code",
   "execution_count": null,
   "metadata": {},
   "outputs": [],
   "source": [
    "df"
   ]
  },
  {
   "cell_type": "code",
   "execution_count": null,
   "metadata": {},
   "outputs": [],
   "source": []
  }
 ],
 "metadata": {
  "kernelspec": {
   "display_name": "negsampler",
   "language": "python",
   "name": "python3"
  },
  "language_info": {
   "codemirror_mode": {
    "name": "ipython",
    "version": 3
   },
   "file_extension": ".py",
   "mimetype": "text/x-python",
   "name": "python",
   "nbconvert_exporter": "python",
   "pygments_lexer": "ipython3",
   "version": "3.12.4"
  }
 },
 "nbformat": 4,
 "nbformat_minor": 2
}
