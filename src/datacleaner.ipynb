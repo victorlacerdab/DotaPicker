{
 "cells": [
  {
   "cell_type": "code",
   "execution_count": 1,
   "metadata": {},
   "outputs": [],
   "source": [
    "import pandas as pd\n",
    "import numpy as np\n",
    "import json\n",
    "import os"
   ]
  },
  {
   "cell_type": "code",
   "execution_count": 2,
   "metadata": {},
   "outputs": [],
   "source": [
    "from utils import load_json, DotaTokenizer\n",
    "\n",
    "project_root = os.path.dirname(os.getcwd())\n",
    "hero_dpath = os.path.join(project_root, 'data', 'heroes.json')\n",
    "match_dpath = os.path.join(project_root, 'data', 'main_metadata_2023.csv')\n",
    "pickbans_dpath = os.path.join(project_root, 'data', 'picks_bans_2023.csv')"
   ]
  },
  {
   "cell_type": "code",
   "execution_count": 3,
   "metadata": {},
   "outputs": [],
   "source": [
    "picks_df = pd.read_csv(pickbans_dpath)\n",
    "matches_df = pd.read_csv(match_dpath)\n",
    "hero_metadata = load_json(hero_dpath)\n",
    "\n",
    "results = np.array(matches_df)\n",
    "picks = np.array(picks_df)"
   ]
  },
  {
   "cell_type": "code",
   "execution_count": 4,
   "metadata": {},
   "outputs": [],
   "source": [
    "special_tks = ['[PAD]', '[PICK]', '[BAN]', '[RADSTART]', '[DIRESTART]', '[RADWIN]', '[DIREWIN]']\n",
    "tokenizer = DotaTokenizer(hero_metadata, special_tks)"
   ]
  },
  {
   "cell_type": "code",
   "execution_count": 5,
   "metadata": {},
   "outputs": [],
   "source": [
    "def prune_unmatching_matches(picks_data: np.array, results_data: np.array) -> np.array:\n",
    "    '''\n",
    "    Prunes matches that do not appear in both datasets.\n",
    "    '''\n",
    "\n",
    "    umps, umrs = np.unique(picks_data[:, 4]), np.unique(results[:, 0]) # Col 4 represents 'match_id', Col 0 representes 'match_id'\n",
    "    conflicting_matches = np.setxor1d(umps, umrs)\n",
    "    mask_picks, mask_results = ~np.isin(picks_data[:, 4], conflicting_matches), ~np.isin(results_data[:, 0], conflicting_matches)\n",
    "    picks_data, results_data = picks_data[mask_picks], results_data[mask_results]\n",
    "\n",
    "    return picks_data, results_data"
   ]
  },
  {
   "cell_type": "code",
   "execution_count": 6,
   "metadata": {},
   "outputs": [],
   "source": [
    "def prune_underpicked_matches(picks_data: np.array, results_data: np.array) -> np.array:\n",
    "    '''\n",
    "    Prunes matches that do not contain a full pick/ban sequence\n",
    "    (i.e. matches with less than 24 picks or bans).\n",
    "    '''\n",
    "\n",
    "    match_ids, id_counts = np.unique(picks_data[:, 4], return_counts=True)\n",
    "    defective_matches = match_ids[np.where(id_counts != 24)]\n",
    "    mask_picks, mask_results = ~np.isin(picks_data[:, 4], defective_matches), ~np.isin(results_data[:, 0], defective_matches)\n",
    "    picks_data, results_data = picks_data[mask_picks], results_data[mask_results]\n",
    "\n",
    "    return picks_data, results_data"
   ]
  },
  {
   "cell_type": "code",
   "execution_count": 73,
   "metadata": {},
   "outputs": [],
   "source": [
    "def make_samples_arr(tokenizer: DotaTokenizer, picks: np.array, results: np.array, hero_metadata: dict) -> np.array:\n",
    "\n",
    "    if picks.shape[0] % 24 != 0:\n",
    "        raise ValueError('The picks array contains matches with a defective number of picks/bans.')\n",
    "    \n",
    "    sample_arrs = np.split(picks, int(picks.shape[0] / 24), axis = 0)\n",
    " \n",
    "    samples = []\n",
    "\n",
    "    for idx in range(len(sample_arrs)):\n",
    "        win_label = int(results[idx][1]) # Convert from `bool` to integer\n",
    "        sample = [int(hero) for hero in list(sample_arrs[idx][:, 1])]\n",
    "        print(len(sample))\n",
    "        print(sample)\n",
    "        print(len(win_label))\n",
    "\n",
    "    return np.array(samples)"
   ]
  },
  {
   "cell_type": "code",
   "execution_count": 74,
   "metadata": {},
   "outputs": [],
   "source": [
    "def make_dataset(tokenizer: DotaTokenizer, picks: np.array, results: np.array, hero_metadata: dict) -> np.array:\n",
    "\n",
    "    '''\n",
    "    Tokenizer (DataTokenizer): custom tokenizer for encoding matches;\n",
    "    picks (np.array): Array whose columns [0-4] represent `is_pick`, `hero_id`, `team`, `order`, `match_id`, respectively;\n",
    "    results (np.array): Array whose columns [0-1] represent `match_id`, `radiant_win`, respectively;\n",
    "    hero_metada (dictionary): Dictionary containing hero: id (int) pairs.\n",
    "    '''\n",
    "\n",
    "    picks, results = prune_unmatching_matches(picks, results)\n",
    "    picks, results = prune_underpicked_matches(picks, results)\n",
    "    sequence_samples = make_samples_arr(tokenizer, picks, results, hero_metadata)\n",
    "\n",
    "    return picks, results, sequence_samples"
   ]
  },
  {
   "cell_type": "code",
   "execution_count": 75,
   "metadata": {},
   "outputs": [
    {
     "name": "stdout",
     "output_type": "stream",
     "text": [
      "24\n",
      "[100, 44, 19, 120, 31, 104, 101, 54, 10, 88, 93, 35, 70, 106, 56, 14, 121, 20, 98, 46, 6, 22, 97, 48]\n"
     ]
    },
    {
     "ename": "TypeError",
     "evalue": "object of type 'int' has no len()",
     "output_type": "error",
     "traceback": [
      "\u001b[0;31m---------------------------------------------------------------------------\u001b[0m",
      "\u001b[0;31mTypeError\u001b[0m                                 Traceback (most recent call last)",
      "Cell \u001b[0;32mIn[75], line 1\u001b[0m\n\u001b[0;32m----> 1\u001b[0m apicks, aresults, asamples \u001b[38;5;241m=\u001b[39m \u001b[43mmake_dataset\u001b[49m\u001b[43m(\u001b[49m\u001b[43mtokenizer\u001b[49m\u001b[43m,\u001b[49m\u001b[43m \u001b[49m\u001b[43mpicks\u001b[49m\u001b[43m,\u001b[49m\u001b[43m \u001b[49m\u001b[43mresults\u001b[49m\u001b[43m,\u001b[49m\u001b[43m \u001b[49m\u001b[43mhero_metadata\u001b[49m\u001b[43m)\u001b[49m\n",
      "Cell \u001b[0;32mIn[74], line 12\u001b[0m, in \u001b[0;36mmake_dataset\u001b[0;34m(tokenizer, picks, results, hero_metadata)\u001b[0m\n\u001b[1;32m     10\u001b[0m picks, results \u001b[38;5;241m=\u001b[39m prune_unmatching_matches(picks, results)\n\u001b[1;32m     11\u001b[0m picks, results \u001b[38;5;241m=\u001b[39m prune_underpicked_matches(picks, results)\n\u001b[0;32m---> 12\u001b[0m sequence_samples \u001b[38;5;241m=\u001b[39m \u001b[43mmake_samples_arr\u001b[49m\u001b[43m(\u001b[49m\u001b[43mtokenizer\u001b[49m\u001b[43m,\u001b[49m\u001b[43m \u001b[49m\u001b[43mpicks\u001b[49m\u001b[43m,\u001b[49m\u001b[43m \u001b[49m\u001b[43mresults\u001b[49m\u001b[43m,\u001b[49m\u001b[43m \u001b[49m\u001b[43mhero_metadata\u001b[49m\u001b[43m)\u001b[49m\n\u001b[1;32m     14\u001b[0m \u001b[38;5;28;01mreturn\u001b[39;00m picks, results, sequence_samples\n",
      "Cell \u001b[0;32mIn[73], line 16\u001b[0m, in \u001b[0;36mmake_samples_arr\u001b[0;34m(tokenizer, picks, results, hero_metadata)\u001b[0m\n\u001b[1;32m     14\u001b[0m     \u001b[38;5;28mprint\u001b[39m(\u001b[38;5;28mlen\u001b[39m(sample))\n\u001b[1;32m     15\u001b[0m     \u001b[38;5;28mprint\u001b[39m(sample)\n\u001b[0;32m---> 16\u001b[0m     \u001b[38;5;28mprint\u001b[39m(\u001b[38;5;28;43mlen\u001b[39;49m\u001b[43m(\u001b[49m\u001b[43mwin_label\u001b[49m\u001b[43m)\u001b[49m)\n\u001b[1;32m     18\u001b[0m \u001b[38;5;28;01mreturn\u001b[39;00m np\u001b[38;5;241m.\u001b[39marray(samples)\n",
      "\u001b[0;31mTypeError\u001b[0m: object of type 'int' has no len()"
     ]
    }
   ],
   "source": [
    "apicks, aresults, asamples = make_dataset(tokenizer, picks, results, hero_metadata)"
   ]
  },
  {
   "cell_type": "code",
   "execution_count": 47,
   "metadata": {},
   "outputs": [],
   "source": [
    "splitarr = np.split(apicks, int(apicks.shape[0] / 24), axis=0)"
   ]
  },
  {
   "cell_type": "code",
   "execution_count": 57,
   "metadata": {},
   "outputs": [
    {
     "data": {
      "text/plain": [
       "array([100.0, 44.0, 19.0, 120.0, 31.0, 104.0, 101.0, 54.0, 10.0, 88.0,\n",
       "       93.0, 35.0, 70.0, 106.0, 56.0, 14.0, 121.0, 20.0, 98.0, 46.0, 6.0,\n",
       "       22.0, 97.0, 48.0], dtype=object)"
      ]
     },
     "execution_count": 57,
     "metadata": {},
     "output_type": "execute_result"
    }
   ],
   "source": [
    "splitarr[0][:, 1]"
   ]
  },
  {
   "cell_type": "code",
   "execution_count": null,
   "metadata": {},
   "outputs": [],
   "source": []
  },
  {
   "cell_type": "code",
   "execution_count": 32,
   "metadata": {},
   "outputs": [],
   "source": []
  }
 ],
 "metadata": {
  "kernelspec": {
   "display_name": "negsampler",
   "language": "python",
   "name": "python3"
  },
  "language_info": {
   "codemirror_mode": {
    "name": "ipython",
    "version": 3
   },
   "file_extension": ".py",
   "mimetype": "text/x-python",
   "name": "python",
   "nbconvert_exporter": "python",
   "pygments_lexer": "ipython3",
   "version": "3.11.6"
  }
 },
 "nbformat": 4,
 "nbformat_minor": 2
}
