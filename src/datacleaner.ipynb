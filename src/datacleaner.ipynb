{
 "cells": [
  {
   "cell_type": "code",
   "execution_count": 1,
   "metadata": {},
   "outputs": [],
   "source": [
    "import pandas as pd\n",
    "import numpy as np\n",
    "import json\n",
    "import os"
   ]
  },
  {
   "cell_type": "code",
   "execution_count": 2,
   "metadata": {},
   "outputs": [],
   "source": [
    "from utils import load_json, DotaTokenizer\n",
    "\n",
    "project_root = os.path.dirname(os.getcwd())\n",
    "hero_dpath = os.path.join(project_root, 'data', 'heroes.json')\n",
    "match_dpath = os.path.join(project_root, 'data', 'main_metadata_2023.csv')\n",
    "pickbans_dpath = os.path.join(project_root, 'data', 'picks_bans_2023.csv')"
   ]
  },
  {
   "cell_type": "code",
   "execution_count": 3,
   "metadata": {},
   "outputs": [],
   "source": [
    "picks_df = pd.read_csv(pickbans_dpath)\n",
    "matches_df = pd.read_csv(match_dpath)\n",
    "hero_metadata = load_json(hero_dpath)\n",
    "\n",
    "results = np.array(matches_df)\n",
    "picks = np.array(picks_df)"
   ]
  },
  {
   "cell_type": "code",
   "execution_count": 4,
   "metadata": {},
   "outputs": [],
   "source": [
    "special_tks = ['[PAD]', '[BLANK_BAN]', '[PICK]', '[BAN]', '[RADSTART]', '[DIRESTART]', '[RADWIN]', '[DIREWIN]']\n",
    "tokenizer = DotaTokenizer(hero_metadata, special_tks)"
   ]
  },
  {
   "cell_type": "code",
   "execution_count": 5,
   "metadata": {},
   "outputs": [
    {
     "data": {
      "text/plain": [
       "'\\npicks_df columns: is_pick, hero_id, team, order, match_id\\nresults_df = match_id, radiant_win\\n'"
      ]
     },
     "execution_count": 5,
     "metadata": {},
     "output_type": "execute_result"
    }
   ],
   "source": [
    "'''\n",
    "picks_df columns: is_pick, hero_id, team, order, match_id\n",
    "results_df = match_id, radiant_win\n",
    "'''"
   ]
  },
  {
   "cell_type": "code",
   "execution_count": 6,
   "metadata": {},
   "outputs": [],
   "source": [
    "def make_sample_array(tokenizer: DotaTokenizer, picks: np.array, results: np.array, hero_metadata: dict) -> tuple[str, int]:\n",
    "\n",
    "\n",
    "    pass"
   ]
  },
  {
   "cell_type": "code",
   "execution_count": 7,
   "metadata": {},
   "outputs": [],
   "source": [
    "def make_dataset(tokenizer: DotaTokenizer, picks: np.array, results: np.array, hero_metadata: dict) -> np.array:\n",
    "\n",
    "    dataset = np.array([0, 0])\n",
    "\n",
    "    # Transform into one single function\n",
    "    umps, umrs = np.unique(picks[:, 4]), np.unique(results[:, 0]) # Col 4 represents 'match_id', Col 0 representes 'match_id'\n",
    "    conflicting_matches = np.setxor1d(umps, umrs)\n",
    "    mask_picks, mask_results = ~np.isin(picks[:, 4], conflicting_matches), ~np.isin(results[:, 0], conflicting_matches)\n",
    "    picks, results = picks[mask_picks], results[mask_results]\n",
    "\n",
    "    samples = make_sample_array(tokenizer, picks, results, hero_metadata)\n",
    "\n",
    "    return dataset"
   ]
  },
  {
   "cell_type": "code",
   "execution_count": 8,
   "metadata": {},
   "outputs": [
    {
     "name": "stdout",
     "output_type": "stream",
     "text": [
      "[[False 100.0 1.0 0.0 6947055162]\n",
      " [False 44.0 0.0 1.0 6947055162]\n",
      " [False 19.0 1.0 2.0 6947055162]\n",
      " [False 120.0 0.0 3.0 6947055162]\n",
      " [True 31.0 1.0 4.0 6947055162]]\n"
     ]
    },
    {
     "ename": "TypeError",
     "evalue": "make_sample() missing 3 required positional arguments: 'picks', 'results', and 'hero_metadata'",
     "output_type": "error",
     "traceback": [
      "\u001b[0;31m---------------------------------------------------------------------------\u001b[0m",
      "\u001b[0;31mTypeError\u001b[0m                                 Traceback (most recent call last)",
      "Cell \u001b[0;32mIn[8], line 1\u001b[0m\n\u001b[0;32m----> 1\u001b[0m dset \u001b[38;5;241m=\u001b[39m \u001b[43mmake_dataset\u001b[49m\u001b[43m(\u001b[49m\u001b[43mtokenizer\u001b[49m\u001b[43m,\u001b[49m\u001b[43m \u001b[49m\u001b[43mpicks\u001b[49m\u001b[43m,\u001b[49m\u001b[43m \u001b[49m\u001b[43mresults\u001b[49m\u001b[43m,\u001b[49m\u001b[43m \u001b[49m\u001b[43mhero_metadata\u001b[49m\u001b[43m)\u001b[49m\n",
      "Cell \u001b[0;32mIn[7], line 16\u001b[0m, in \u001b[0;36mmake_dataset\u001b[0;34m(tokenizer, picks, results, hero_metadata)\u001b[0m\n\u001b[1;32m     12\u001b[0m \u001b[38;5;28mprint\u001b[39m(picks[:\u001b[38;5;241m5\u001b[39m])\n\u001b[1;32m     15\u001b[0m \u001b[38;5;28;01mfor\u001b[39;00m unique_match \u001b[38;5;129;01min\u001b[39;00m umps:\n\u001b[0;32m---> 16\u001b[0m     sample \u001b[38;5;241m=\u001b[39m \u001b[43mmake_sample\u001b[49m\u001b[43m(\u001b[49m\u001b[43munique_match\u001b[49m\u001b[43m)\u001b[49m\n\u001b[1;32m     18\u001b[0m \u001b[38;5;28;01mreturn\u001b[39;00m dataset\n",
      "\u001b[0;31mTypeError\u001b[0m: make_sample() missing 3 required positional arguments: 'picks', 'results', and 'hero_metadata'"
     ]
    }
   ],
   "source": [
    "dset = make_dataset(tokenizer, picks, results, hero_metadata)"
   ]
  },
  {
   "cell_type": "code",
   "execution_count": null,
   "metadata": {},
   "outputs": [],
   "source": [
    "umps, umrs = np.unique(picks[:, 4]), np.unique(results[:, 0]) # Col 4 represents 'match_id', Col 0 representes 'match_id'\n",
    "conflicting_matches = np.setxor1d(umps, umrs)\n",
    "\n",
    "mask_picks = ~np.isin(picks[:, 4], conflicting_matches)\n",
    "mask_results = ~np.isin(results[:, 0], conflicting_matches)\n",
    "    \n",
    "apicks = picks[mask_picks]\n",
    "aresults = results[mask_results]"
   ]
  },
  {
   "cell_type": "code",
   "execution_count": null,
   "metadata": {},
   "outputs": [],
   "source": [
    "results.shape"
   ]
  },
  {
   "cell_type": "code",
   "execution_count": null,
   "metadata": {},
   "outputs": [],
   "source": [
    "apicks.shape"
   ]
  },
  {
   "cell_type": "code",
   "execution_count": null,
   "metadata": {},
   "outputs": [],
   "source": [
    "aresults.shape"
   ]
  },
  {
   "cell_type": "code",
   "execution_count": null,
   "metadata": {},
   "outputs": [],
   "source": [
    "# ()'sequence of picks', match result) "
   ]
  }
 ],
 "metadata": {
  "kernelspec": {
   "display_name": "negsampler",
   "language": "python",
   "name": "python3"
  },
  "language_info": {
   "codemirror_mode": {
    "name": "ipython",
    "version": 3
   },
   "file_extension": ".py",
   "mimetype": "text/x-python",
   "name": "python",
   "nbconvert_exporter": "python",
   "pygments_lexer": "ipython3",
   "version": "3.12.4"
  }
 },
 "nbformat": 4,
 "nbformat_minor": 2
}
