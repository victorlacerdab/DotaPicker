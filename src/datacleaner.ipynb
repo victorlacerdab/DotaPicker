{
 "cells": [
  {
   "cell_type": "code",
   "execution_count": 1,
   "metadata": {},
   "outputs": [],
   "source": [
    "import pandas as pd\n",
    "import numpy as np\n",
    "import torch\n",
    "import json\n",
    "import os"
   ]
  },
  {
   "cell_type": "code",
   "execution_count": 2,
   "metadata": {},
   "outputs": [],
   "source": [
    "from utils import load_json, DotaTokenizer\n",
    "\n",
    "project_root = os.path.dirname(os.getcwd())\n",
    "hero_dpath = os.path.join(project_root, 'data', 'heroes.json')\n",
    "match_dpath = os.path.join(project_root, 'data', 'main_metadata_2023.csv')\n",
    "pickbans_dpath = os.path.join(project_root, 'data', 'picks_bans_2023.csv')\n",
    "\n",
    "data_processed_path = '/Users/victorlacerda/Documents/VSCode/DotaPicker/data/processed/' # Where to save the dataloaders\n",
    "specs_dict_path = os.path.join(data_processed_path + 'dota_matches.json')"
   ]
  },
  {
   "cell_type": "code",
   "execution_count": 3,
   "metadata": {},
   "outputs": [],
   "source": [
    "picks_df = pd.read_csv(pickbans_dpath)\n",
    "matches_df = pd.read_csv(match_dpath)\n",
    "hero_metadata = load_json(hero_dpath)\n",
    "\n",
    "results = np.array(matches_df)\n",
    "picks = np.array(picks_df)"
   ]
  },
  {
   "cell_type": "code",
   "execution_count": 4,
   "metadata": {},
   "outputs": [],
   "source": [
    "special_tks = ['[PICK]', '[BAN]', '[RADSTART]', '[DIRESTART]', '[RADWIN]', '[DIREWIN]']\n",
    "tokenizer = DotaTokenizer(hero_metadata, special_tks)"
   ]
  },
  {
   "cell_type": "code",
   "execution_count": 5,
   "metadata": {},
   "outputs": [],
   "source": [
    "def prune_unmatching_matches(picks_data: np.array, results_data: np.array) -> np.array:\n",
    "    '''\n",
    "    Prunes matches that do not appear in both datasets.\n",
    "    '''\n",
    "\n",
    "    umps, umrs = np.unique(picks_data[:, 4]), np.unique(results[:, 0]) # Col 4 represents 'match_id', Col 0 representes 'match_id'\n",
    "    conflicting_matches = np.setxor1d(umps, umrs)\n",
    "    mask_picks, mask_results = ~np.isin(picks_data[:, 4], conflicting_matches), ~np.isin(results_data[:, 0], conflicting_matches)\n",
    "    picks_data, results_data = picks_data[mask_picks], results_data[mask_results]\n",
    "\n",
    "    return picks_data, results_data"
   ]
  },
  {
   "cell_type": "code",
   "execution_count": 6,
   "metadata": {},
   "outputs": [],
   "source": [
    "def prune_underpicked_matches(picks_data: np.array, results_data: np.array) -> np.array:\n",
    "    '''\n",
    "    Prunes matches that do not contain a full pick/ban sequence\n",
    "    (i.e. matches with less than 24 picks or bans).\n",
    "    '''\n",
    "\n",
    "    match_ids, id_counts = np.unique(picks_data[:, 4], return_counts=True)\n",
    "    defective_matches = match_ids[np.where(id_counts != 24)]\n",
    "    mask_picks, mask_results = ~np.isin(picks_data[:, 4], defective_matches), ~np.isin(results_data[:, 0], defective_matches)\n",
    "    picks_data, results_data = picks_data[mask_picks], results_data[mask_results]\n",
    "\n",
    "    return picks_data, results_data"
   ]
  },
  {
   "cell_type": "code",
   "execution_count": 7,
   "metadata": {},
   "outputs": [],
   "source": [
    "def make_samples_arr(tokenizer: DotaTokenizer, picks: np.array, results: np.array, hero_metadata: dict) -> list:\n",
    "\n",
    "    if picks.shape[0] % 24 != 0:\n",
    "        raise ValueError('The picks array contains matches with a defective number of picks/bans.')\n",
    "    \n",
    "    sample_arrs = np.split(picks, int(picks.shape[0] / 24), axis = 0)\n",
    " \n",
    "    samples = []\n",
    "\n",
    "    for idx in range(len(sample_arrs)):\n",
    "        win_label = int(results[idx][1]) # Convert from `bool` to integer\n",
    "        sample = [int(hero) for hero in list(sample_arrs[idx][:, 1])]\n",
    "\n",
    "        if win_label == 1:\n",
    "            win_label = tokenizer.simple_ttoi['[RADWIN]']\n",
    "            sample.append(win_label)\n",
    "        else:\n",
    "            win_label = tokenizer.simple_ttoi['[DIREWIN]']\n",
    "            sample.append(win_label)\n",
    "            \n",
    "        samples.append(sample)\n",
    "            \n",
    "    return samples"
   ]
  },
  {
   "cell_type": "code",
   "execution_count": 8,
   "metadata": {},
   "outputs": [],
   "source": [
    "def make_sequence_samples(tokenizer: DotaTokenizer, picks: np.array, results: np.array, hero_metadata: dict) -> np.array:\n",
    "\n",
    "    '''\n",
    "    Tokenizer (DataTokenizer): custom tokenizer for encoding matches;\n",
    "    picks (np.array): Array whose columns [0-4] represent `is_pick`, `hero_id`, `team`, `order`, `match_id`, respectively;\n",
    "    results (np.array): Array whose columns [0-1] represent `match_id`, `radiant_win`, respectively;\n",
    "    hero_metada (dictionary): Dictionary containing hero: id (int) pairs.\n",
    "    '''\n",
    "\n",
    "    picks, results = prune_unmatching_matches(picks, results)\n",
    "    picks, results = prune_underpicked_matches(picks, results)\n",
    "    sequence_samples = make_samples_arr(tokenizer, picks, results, hero_metadata)\n",
    "\n",
    "    return sequence_samples"
   ]
  },
  {
   "cell_type": "code",
   "execution_count": 9,
   "metadata": {},
   "outputs": [],
   "source": [
    "final_samples = make_sequence_samples(tokenizer, picks, results, hero_metadata)"
   ]
  },
  {
   "cell_type": "code",
   "execution_count": 10,
   "metadata": {},
   "outputs": [],
   "source": [
    "from utils import Dotaset\n",
    "\n",
    "dotaset = Dotaset(final_samples)"
   ]
  },
  {
   "cell_type": "code",
   "execution_count": 11,
   "metadata": {},
   "outputs": [],
   "source": [
    "train_size = int(0.8 * len(dotaset))\n",
    "val_size = int(0.1 * len(dotaset))\n",
    "test_size = len(dotaset) - train_size - val_size"
   ]
  },
  {
   "cell_type": "code",
   "execution_count": 12,
   "metadata": {},
   "outputs": [],
   "source": [
    "specs = {'simple_vocab_len': len(tokenizer.simple_vocab.keys()),\n",
    "        'alt_vocab_len': len(tokenizer.pickban_vocab.keys()),\n",
    "        'simple_match_len': len(final_samples[0])}\n",
    "\n",
    "# Save the dictionary as a JSON file\n",
    "with open(specs_dict_path, 'w') as json_file:\n",
    "    json.dump(specs, json_file, indent=4)"
   ]
  },
  {
   "cell_type": "code",
   "execution_count": 13,
   "metadata": {},
   "outputs": [],
   "source": [
    "from torch.utils.data import random_split\n",
    "train_dataset, val_dataset, test_dataset = random_split(dotaset, [train_size, val_size, test_size])"
   ]
  },
  {
   "cell_type": "code",
   "execution_count": 14,
   "metadata": {},
   "outputs": [],
   "source": [
    "torch.save(train_dataset, os.path.join(data_processed_path, 'dota_train.pt'))\n",
    "torch.save(val_dataset, os.path.join(data_processed_path, 'dota_val.pt'))\n",
    "torch.save(test_dataset, os.path.join(data_processed_path, 'dota_test.pt'))"
   ]
  }
 ],
 "metadata": {
  "kernelspec": {
   "display_name": "negsampler",
   "language": "python",
   "name": "python3"
  },
  "language_info": {
   "codemirror_mode": {
    "name": "ipython",
    "version": 3
   },
   "file_extension": ".py",
   "mimetype": "text/x-python",
   "name": "python",
   "nbconvert_exporter": "python",
   "pygments_lexer": "ipython3",
   "version": "3.11.6"
  }
 },
 "nbformat": 4,
 "nbformat_minor": 2
}
