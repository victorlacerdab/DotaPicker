{
 "cells": [
  {
   "cell_type": "code",
   "execution_count": null,
   "metadata": {},
   "outputs": [],
   "source": [
    "import os\n",
    "import numpy as np\n",
    "import torch\n",
    "import torch.nn as nn\n",
    "import matplotlib.pyplot as plt\n",
    "\n",
    "torch.manual_seed(22)\n",
    "device = torch.device('cuda' if torch.cuda.is_available() else 'cpu')\n",
    "print(device)\n",
    "\n",
    "data_dir = '/youdir'\n",
    "model_dir = '/youdir'\n",
    "\n",
    "fnames = ['dota_train_23.pt', 'dota_val_23.pt', 'dota_test_23.pt']"
   ]
  },
  {
   "cell_type": "code",
   "execution_count": null,
   "metadata": {},
   "outputs": [],
   "source": [
    "from utils import load_data\n",
    "BATCH_SIZE = 512\n",
    "_, _, test_dloader = load_data(data_dir, fnames, batch_size=BATCH_SIZE)"
   ]
  },
  {
   "cell_type": "code",
   "execution_count": null,
   "metadata": {},
   "outputs": [],
   "source": [
    "model = torch.load(os.path.join(model_dir, '/yourdir.pt'))"
   ]
  },
  {
   "cell_type": "code",
   "execution_count": null,
   "metadata": {},
   "outputs": [],
   "source": [
    "def eval(model, dloader, device):\n",
    "\n",
    "    model.eval()\n",
    "    pickban_hits = 0\n",
    "    pickban_hits5 = 0\n",
    "    teamwin_hits = 0\n",
    "    total_pickban_elements = 0\n",
    "    total_teamwin_elements = 0\n",
    "\n",
    "    with torch.no_grad():\n",
    "        for batch in dloader:\n",
    "            inputs = batch\n",
    "            inputs = inputs.to(device)\n",
    "            targets = inputs[:, 1:]\n",
    "            outputs = model(inputs)\n",
    "            scores = torch.argmax(outputs[:, :-1, :], dim=-1)\n",
    "            _, scores5_idcs = torch.topk(outputs[:, :-1, :], 5, dim=-1)\n",
    "\n",
    "            # Calculate picks and bans predictions\n",
    "            pickban_scores, targets_pickbans = scores[:, :-1], targets[:, :-1]\n",
    "            pickban_hits += (pickban_scores == targets_pickbans).sum().item()\n",
    "            total_pickban_elements += targets_pickbans.numel()\n",
    "\n",
    "            # Calculate acc@5 predictions\n",
    "            pickban_hits5 += (targets.unsqueeze(-1) == scores5_idcs).any(dim=-1).sum().item()\n",
    "\n",
    "            # Calculates winrate scores\n",
    "            teamwin_scores, targets_teamwin = scores[:, -1], targets[:, -1]\n",
    "            teamwin_hits += (teamwin_scores == targets_teamwin).sum().item()\n",
    "            total_teamwin_elements += targets_teamwin.numel()\n",
    "\n",
    "    pickban_acc = pickban_hits/total_pickban_elements\n",
    "    pickban5_acc = pickban_hits5/total_pickban_elements\n",
    "    win_acc = teamwin_hits/total_teamwin_elements\n",
    "\n",
    "    print(f'Accuracy on picks and bans: {pickban_acc}')\n",
    "    print(f'Accuracy @ 5 on picks and bans: {pickban5_acc}')\n",
    "    print(f'Accuracy on winning team: {win_acc}')\n",
    "\n",
    "    return pickban_acc, win_acc"
   ]
  },
  {
   "cell_type": "code",
   "execution_count": null,
   "metadata": {},
   "outputs": [],
   "source": [
    "a,b = eval(model, test_dloader, device)"
   ]
  }
 ],
 "metadata": {
  "kernelspec": {
   "display_name": "lmlogic",
   "language": "python",
   "name": "python3"
  },
  "language_info": {
   "codemirror_mode": {
    "name": "ipython",
    "version": 3
   },
   "file_extension": ".py",
   "mimetype": "text/x-python",
   "name": "python",
   "nbconvert_exporter": "python",
   "pygments_lexer": "ipython3",
   "version": "3.12.0"
  }
 },
 "nbformat": 4,
 "nbformat_minor": 2
}
