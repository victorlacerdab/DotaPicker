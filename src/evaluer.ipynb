{
 "cells": [
  {
   "cell_type": "code",
   "execution_count": null,
   "metadata": {},
   "outputs": [],
   "source": [
    "import os\n",
    "import numpy as np\n",
    "import torch\n",
    "import torch.nn as nn\n",
    "import matplotlib.pyplot as plt\n",
    "\n",
    "torch.manual_seed(22)\n",
    "device = torch.device('cuda' if torch.cuda.is_available() else 'cpu')\n",
    "print(device)\n",
    "\n",
    "data_dir = '/Home/siv33/vbo084/DotaPicker/data/processed/'\n",
    "model_dir = '/Home/siv33/vbo084/DotaPicker/saved_models/'\n",
    "\n",
    "#fnames = ['dota_train_22.pt', 'dota_val_22.pt', 'dota_test_22.pt']\n",
    "fnames = ['dota_train_23.pt', 'dota_val_23.pt', 'dota_test_23.pt']"
   ]
  },
  {
   "cell_type": "code",
   "execution_count": null,
   "metadata": {},
   "outputs": [],
   "source": [
    "from utils import load_data\n",
    "BATCH_SIZE = 128\n",
    "train_dloader, val_dloader, test_dloader = load_data(data_dir, fnames, batch_size=BATCH_SIZE)"
   ]
  },
  {
   "cell_type": "code",
   "execution_count": null,
   "metadata": {},
   "outputs": [],
   "source": [
    "#model = torch.load(os.path.join(model_dir, 'heropicker_final_23.pt'))\n",
    "\n",
    "model = torch.load(os.path.join(model_dir, 'heropicker_final_23_nonsense.pt'))"
   ]
  },
  {
   "cell_type": "code",
   "execution_count": null,
   "metadata": {},
   "outputs": [],
   "source": [
    "def eval(model, dloader, device):\n",
    "\n",
    "    model.eval()\n",
    "    pickban_hits = 0\n",
    "    teamwin_hits = 0\n",
    "    total_pickban_elements = 0\n",
    "    total_teamwin_elements = 0\n",
    "\n",
    "    with torch.no_grad():\n",
    "        for batch in dloader:\n",
    "            inputs = batch\n",
    "            inputs = inputs.to(device)\n",
    "            targets = inputs[:, 1:]\n",
    "            scores = torch.argmax(model(inputs)[:, :-1, :], dim=-1)\n",
    "\n",
    "            # Calculate picks and bans predictions\n",
    "            pickban_scores, targets_pickbans = scores[:, :-1], targets[:, :-1]\n",
    "            #print(f'Pickban scores: {pickban_scores[:25]}')\n",
    "            #print(f'Target scores: {targets_pickbans[:25]}')\n",
    "            pickban_hits += (pickban_scores == targets_pickbans).sum().item()\n",
    "            total_pickban_elements += targets_pickbans.numel()\n",
    "\n",
    "            # Calculates winrate scores\n",
    "            teamwin_scores, targets_teamwin = scores[:, -1], targets[:, -1]\n",
    "            teamwin_hits += (teamwin_scores == targets_teamwin).sum().item()\n",
    "            total_teamwin_elements += targets_teamwin.numel()\n",
    "            break\n",
    "\n",
    "    pickban_acc = pickban_hits/total_pickban_elements\n",
    "    win_acc = teamwin_hits/total_teamwin_elements\n",
    "\n",
    "    print(f'Accuracy on picks and bans: {pickban_acc}')\n",
    "    print(f'Accuracy on winning team: {win_acc}')\n",
    "\n",
    "    return pickban_acc, win_acc"
   ]
  },
  {
   "cell_type": "code",
   "execution_count": null,
   "metadata": {},
   "outputs": [],
   "source": [
    "a,b = eval(model, test_dloader, device)"
   ]
  },
  {
   "cell_type": "code",
   "execution_count": null,
   "metadata": {},
   "outputs": [],
   "source": []
  }
 ],
 "metadata": {
  "kernelspec": {
   "display_name": "lmlogic",
   "language": "python",
   "name": "python3"
  },
  "language_info": {
   "codemirror_mode": {
    "name": "ipython",
    "version": 3
   },
   "file_extension": ".py",
   "mimetype": "text/x-python",
   "name": "python",
   "nbconvert_exporter": "python",
   "pygments_lexer": "ipython3",
   "version": "3.12.0"
  }
 },
 "nbformat": 4,
 "nbformat_minor": 2
}
