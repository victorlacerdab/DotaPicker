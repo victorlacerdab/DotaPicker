{
 "cells": [
  {
   "cell_type": "code",
   "execution_count": null,
   "metadata": {},
   "outputs": [],
   "source": [
    "import os\n",
    "import numpy as np\n",
    "import torch\n",
    "import torch.nn as nn\n",
    "import math\n",
    "from utils import load_data, plot_losses, load_json\n",
    "from heropicker import HeroPicker\n",
    "\n",
    "torch.manual_seed(39)\n",
    "device = torch.device('cuda' if torch.cuda.is_available() else 'cpu')\n",
    "print(device)"
   ]
  },
  {
   "cell_type": "code",
   "execution_count": null,
   "metadata": {},
   "outputs": [],
   "source": [
    "data_dir = '/Home/siv33/vbo084/DotaPicker/data/processed/'\n",
    "model_dir = '/Home/siv33/vbo084/DotaPicker/saved_models/'\n",
    "\n",
    "fnames = ['dota_train_23.pt', 'dota_val_23.pt', 'dota_test_23.pt']\n",
    "specnames = ['dota_matches.json']\n",
    "\n",
    "dset_specs = load_json(os.path.join(data_dir, specnames[0]))\n",
    "print(dset_specs)\n",
    "VOCAB_LEN = dset_specs['simple_vocab_len'] + 15"
   ]
  },
  {
   "cell_type": "code",
   "execution_count": null,
   "metadata": {},
   "outputs": [],
   "source": [
    "config_dict = {'emb_dim': 512,\n",
    "               'dropout': 0.5,\n",
    "               'vocab_len': VOCAB_LEN,\n",
    "               'num_heads': 4,\n",
    "               'num_dec_layers': 4,\n",
    "               'dim_ff': 1024,\n",
    "               'epochs': 5000,\n",
    "               'lr': 0.000001\n",
    "               }"
   ]
  },
  {
   "cell_type": "code",
   "execution_count": null,
   "metadata": {},
   "outputs": [],
   "source": [
    "BATCH_SIZE = 2048\n",
    "train_dloader, val_dloader, test_dloader = load_data(data_dir, fnames, batch_size=BATCH_SIZE)"
   ]
  },
  {
   "cell_type": "code",
   "execution_count": null,
   "metadata": {},
   "outputs": [],
   "source": [
    "def train_causal(traindloader, valdloader, config_dict, device):\n",
    "\n",
    "    epochs = config_dict['epochs']\n",
    "    model = HeroPicker(vocab_len=config_dict['vocab_len'], emb_dim=config_dict['emb_dim'],\n",
    "                       num_heads=config_dict['num_heads'], dim_ff=config_dict['dim_ff'],\n",
    "                       dropout_rate=config_dict['dropout'], num_decod_layers=config_dict['num_dec_layers'],\n",
    "                       device=device\n",
    "                       )\n",
    "    \n",
    "    optimizer = torch.optim.Adam(model.parameters(), lr=config_dict['lr'])\n",
    "    loss_fn = nn.CrossEntropyLoss()\n",
    "\n",
    "    train_losses = []\n",
    "    val_losses = []\n",
    "\n",
    "    model = model.to(device)\n",
    "\n",
    "    # Training and validation loop\n",
    "    for epoch in range(epochs):\n",
    "        # Training phase\n",
    "        model.train()\n",
    "        total_train_loss = 0\n",
    "\n",
    "        for batch in traindloader:\n",
    "            inputs = batch\n",
    "            targets = inputs[:, 1:]\n",
    "            targets = targets.reshape(targets.size(0) * targets.size(1))\n",
    "            inputs = inputs.to(device)\n",
    "            targets = targets.to(device)\n",
    "\n",
    "            optimizer.zero_grad()\n",
    "            outputs = model(inputs)\n",
    "\n",
    "            outputs = outputs[:, :-1, :]\n",
    "            outputs = outputs.reshape(outputs.size(0) * outputs.size(1), outputs.size(2))\n",
    "\n",
    "            loss = loss_fn(outputs, targets)\n",
    "\n",
    "            loss.backward()\n",
    "            optimizer.step()\n",
    "\n",
    "            total_train_loss += loss.item()\n",
    "\n",
    "        avg_train_loss = total_train_loss / len(traindloader)\n",
    "        train_losses.append(avg_train_loss)\n",
    "\n",
    "        # Validation phase\n",
    "        model.eval()\n",
    "        total_val_loss = 0\n",
    "\n",
    "        with torch.no_grad():\n",
    "            for batch in valdloader:\n",
    "                inputs = batch\n",
    "                targets = inputs[:, 1: ]\n",
    "                targets = targets.reshape(targets.size(0) * targets.size(1))\n",
    "                inputs = inputs.to(device)\n",
    "                targets = targets.to(device)\n",
    "\n",
    "                outputs = model(inputs)\n",
    "                outputs = outputs[:, :-1, :]\n",
    "                outputs = outputs.reshape(outputs.size(0) * outputs.size(1), outputs.size(2))\n",
    "        \n",
    "                loss = loss_fn(outputs, targets)\n",
    "                total_val_loss += loss.item()\n",
    "\n",
    "        avg_val_loss = total_val_loss / len(valdloader)\n",
    "        val_losses.append(avg_val_loss)\n",
    "\n",
    "        if (epoch+1) % 50 == 0:\n",
    "            #torch.save(model, os.path.join(model_dir, f'heropicker_{epoch}epcs.pt'))\n",
    "            print(f\"Epoch {epoch + 1}/{epochs}, Train Loss: {avg_train_loss:.4f}, Val Loss: {avg_val_loss:.4f}\")\n",
    "\n",
    "    print('Saving final model.')\n",
    "    torch.save(model, os.path.join(model_dir, f'heropicker_final_23.pt'))\n",
    "\n",
    "    return model, train_losses, val_losses"
   ]
  },
  {
   "cell_type": "code",
   "execution_count": 6,
   "metadata": {},
   "outputs": [],
   "source": [
    "print(f'Starting to train HeroPicker.')\n",
    "model, tls, vls = train_causal(val_dloader, test_dloader, config_dict, device)\n",
    "plot_losses(tls, vls)"
   ]
  },
  {
   "cell_type": "code",
   "execution_count": null,
   "metadata": {},
   "outputs": [],
   "source": []
  }
 ],
 "metadata": {
  "kernelspec": {
   "display_name": "eloguessr",
   "language": "python",
   "name": "python3"
  },
  "language_info": {
   "codemirror_mode": {
    "name": "ipython",
    "version": 3
   },
   "file_extension": ".py",
   "mimetype": "text/x-python",
   "name": "python",
   "nbconvert_exporter": "python",
   "pygments_lexer": "ipython3",
   "version": "3.12.0"
  }
 },
 "nbformat": 4,
 "nbformat_minor": 2
}
